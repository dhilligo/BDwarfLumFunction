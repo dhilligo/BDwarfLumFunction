{
 "cells": [
  {
   "cell_type": "code",
   "execution_count": 7,
   "metadata": {},
   "outputs": [],
   "source": [
    "import numpy as np\n",
    "import astropy\n",
    "import astroquery\n",
    "import matplotlib as plt"
   ]
  },
  {
   "cell_type": "code",
   "execution_count": 8,
   "metadata": {},
   "outputs": [
    {
     "name": "stdout",
     "output_type": "stream",
     "text": [
      "{'J/A+A/649/A6': 'Gaia Catalogue of Nearby Stars - GCNS (Gaia collaboration, 2021)'}\n"
     ]
    }
   ],
   "source": [
    "from astroquery.vizier import Vizier\n",
    "catalog_list = Vizier.find_catalogs('GCNS')\n",
    "print({k:v.description for k,v in catalog_list.items()})"
   ]
  },
  {
   "cell_type": "code",
   "execution_count": 9,
   "metadata": {},
   "outputs": [
    {
     "name": "stdout",
     "output_type": "stream",
     "text": [
      "TableList with 8 tables:\n",
      "\t'0:J/A+A/649/A6/table1c' with 31 column(s) and 331312 row(s) \n",
      "\t'1:J/A+A/649/A6/table1r' with 31 column(s) and 880428 row(s) \n",
      "\t'2:J/A+A/649/A6/progwd' with 3 column(s) and 45 row(s) \n",
      "\t'3:J/A+A/649/A6/table3' with 9 column(s) and 19176 row(s) \n",
      "\t'4:J/A+A/649/A6/maglim' with 13 column(s) and 12288 row(s) \n",
      "\t'5:J/A+A/649/A6/missing' with 9 column(s) and 1259 row(s) \n",
      "\t'6:J/A+A/649/A6/hyacomb' with 4 column(s) and 1132 row(s) \n",
      "\t'7:J/A+A/649/A6/distpdf' with 15 column(s) and 1211740 row(s) \n"
     ]
    }
   ],
   "source": [
    "Vizier.ROW_LIMIT = -1\n",
    "catalogs = Vizier.get_catalogs(catalog_list.keys())\n",
    "print(catalogs)"
   ]
  },
  {
   "cell_type": "code",
   "execution_count": 10,
   "metadata": {},
   "outputs": [],
   "source": [
    "#print(catalogs['J/A+A/649/A6/table1c'])"
   ]
  },
  {
   "cell_type": "code",
   "execution_count": 11,
   "metadata": {},
   "outputs": [],
   "source": [
    "stellardata=catalogs['J/A+A/649/A6/table1c']"
   ]
  },
  {
   "cell_type": "code",
   "execution_count": 12,
   "metadata": {},
   "outputs": [
    {
     "name": "stdout",
     "output_type": "stream",
     "text": [
      "      GaiaEDR3        RA_ICRS     DE_ICRS   ...   _RA.icrs    _DE.icrs \n",
      "                        deg         deg     ...     deg         deg    \n",
      "------------------- ----------- ----------- ... ----------- -----------\n",
      "2334666126716440064   0.0025650 -26.3653495 ...   0.0024484 -26.3650724\n",
      "2341871673090078592   0.0051210 -19.4988406 ...   0.0042732 -19.4988360\n",
      " 530861741656374272   0.0056369  70.8873639 ...   0.0063545  70.8872848\n",
      "2745400068346761216   0.0093361   6.5110167 ...   0.0088105   6.5109744\n",
      "2855176271335676800   0.0135364  29.2778958 ...   0.0132751  29.2776901\n",
      "4616265759236854016   0.0148925 -86.5417045 ...   0.0137697 -86.5417672\n",
      "2875125810310195712   0.0157909  34.1883005 ...   0.0170125  34.1885535\n",
      "2335003848584711040   0.0159102 -25.4988391 ...   0.0160338 -25.4987613\n",
      "2773793203786254208   0.0165201  18.1025028 ...   0.0162742  18.1029349\n",
      "2740326852975975040   0.0196790   3.9464089 ...   0.0186847   3.9464600\n",
      "                ...         ...         ... ...         ...         ...\n",
      "6386702994347886080 359.9888830 -70.4709291 ... 359.9867026 -70.4708952\n",
      "2875428141647824000 359.9894751  34.5807419 ... 359.9899051  34.5810244\n",
      "2421141273132330624 359.9903364 -12.7085243 ... 359.9906692 -12.7080573\n",
      "2341766188693540864 359.9921292 -20.1302030 ... 359.9902017 -20.1278860\n",
      "2747083180130073344 359.9934331   8.7887252 ... 359.9927035   8.7883773\n",
      "2766925825958528512 359.9935228  12.3760617 ... 359.9938566  12.3764381\n",
      "2773791481503524992 359.9940276  18.0530296 ... 359.9928033  18.0534713\n",
      "6521388186590534272 359.9947710 -53.1822876 ... 359.9943426 -53.1827146\n",
      "2011682661920690304 359.9958126  60.9183058 ... 359.9960345  60.9184193\n",
      "2314850075324449408 359.9999263 -30.0245287 ... 359.9984115 -30.0231660\n",
      "Length = 331312 rows\n"
     ]
    }
   ],
   "source": [
    "print(stellardata)"
   ]
  },
  {
   "cell_type": "code",
   "execution_count": 19,
   "metadata": {},
   "outputs": [
    {
     "name": "stdout",
     "output_type": "stream",
     "text": [
      "       Plx        \n",
      "------------------\n",
      " 68.04109682248078\n",
      " 37.31621762818121\n",
      " 97.25734292939117\n",
      "61.500615006150056\n",
      " 97.13453132588636\n",
      "120.83131947800871\n",
      " 49.51965930474399\n",
      " 79.28327915642592\n",
      " 73.16359379572725\n",
      " 64.96037417175523\n",
      "               ...\n",
      "  67.1366230278617\n",
      "122.92562999385372\n",
      " 83.38197281747686\n",
      " 96.40412609659694\n",
      "30.530622214080726\n",
      " 91.21590805436469\n",
      "44.200848656294205\n",
      " 69.82752601075345\n",
      "55.233360950013804\n",
      "109.96261271167803\n",
      " 88.09020436927413\n",
      "Length = 331312 rows\n"
     ]
    },
    {
     "data": {
      "text/plain": [
       "1.3019697500348277"
      ]
     },
     "execution_count": 19,
     "metadata": {},
     "output_type": "execute_result"
    }
   ],
   "source": [
    "stellardata['Plx']\n",
    "distance=1000/stellardata['Plx']\n",
    "print(distance)\n",
    "np.min(distance)"
   ]
  },
  {
   "cell_type": "code",
   "execution_count": null,
   "metadata": {},
   "outputs": [],
   "source": []
  }
 ],
 "metadata": {
  "kernelspec": {
   "display_name": "Python 3",
   "language": "python",
   "name": "python3"
  },
  "language_info": {
   "codemirror_mode": {
    "name": "ipython",
    "version": 3
   },
   "file_extension": ".py",
   "mimetype": "text/x-python",
   "name": "python",
   "nbconvert_exporter": "python",
   "pygments_lexer": "ipython3",
   "version": "3.7.4"
  }
 },
 "nbformat": 4,
 "nbformat_minor": 2
}
