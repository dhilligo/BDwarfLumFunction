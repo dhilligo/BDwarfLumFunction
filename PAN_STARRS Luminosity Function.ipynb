{
 "cells": [
  {
   "cell_type": "code",
   "execution_count": 31,
   "metadata": {},
   "outputs": [],
   "source": [
    "#PAN-STARRS1 3(pi) Survey"
   ]
  },
  {
   "cell_type": "code",
   "execution_count": 32,
   "metadata": {},
   "outputs": [],
   "source": [
    "import numpy as np\n",
    "import astropy\n",
    "import astroquery\n",
    "from astropy import units as u\n",
    "from astropy.coordinates import SkyCoord\n",
    "import matplotlib.pyplot as plt"
   ]
  },
  {
   "cell_type": "code",
   "execution_count": 33,
   "metadata": {},
   "outputs": [
    {
     "name": "stdout",
     "output_type": "stream",
     "text": [
      "{'J/ApJS/234/1': 'Catalog of M, L, & T dwarfs from PS1 3{pi} Survey (Best+, 2018)'}\n"
     ]
    }
   ],
   "source": [
    "from astroquery.vizier import Vizier\n",
    "catalog_list = Vizier.find_catalogs('J/ApJS/234/1')\n",
    "print({k:v.description for k,v in catalog_list.items()})"
   ]
  },
  {
   "cell_type": "code",
   "execution_count": 34,
   "metadata": {},
   "outputs": [
    {
     "name": "stdout",
     "output_type": "stream",
     "text": [
      "TableList with 2 tables:\n",
      "\t'0:J/ApJS/234/1/dwarfs' with 23 column(s) and 9888 row(s) \n",
      "\t'1:J/ApJS/234/1/refs' with 4 column(s) and 472 row(s) \n"
     ]
    }
   ],
   "source": [
    "Vizier.ROW_LIMIT = -1\n",
    "catalogs = Vizier.get_catalogs(catalog_list.keys())\n",
    "print(catalogs)"
   ]
  },
  {
   "cell_type": "code",
   "execution_count": 35,
   "metadata": {},
   "outputs": [],
   "source": [
    "dwarfs=catalogs['J/ApJS/234/1/dwarfs']"
   ]
  },
  {
   "cell_type": "code",
   "execution_count": 36,
   "metadata": {},
   "outputs": [
    {
     "data": {
      "text/html": [
       "<i>Table masked=True length=9888</i>\n",
       "<table id=\"table140478732996304\" class=\"table-striped table-bordered table-condensed\">\n",
       "<thead><tr><th>Name</th><th>SpT</th><th>GravOpt</th><th>PS1</th><th>_2MCat</th><th>_2MASS</th><th>AllWISE</th><th>Ngh</th><th>Gmag</th><th>RAJ2000</th><th>DEJ2000</th><th>PS1ep</th><th>pmRA</th><th>e_pmRA</th><th>pmDE</th><th>e_pmDE</th><th>pm</th><th>e_pm</th><th>pmPA</th><th>e_pmPA</th><th>Nep</th><th>Dist</th><th>vtan</th></tr></thead>\n",
       "<thead><tr><th></th><th></th><th></th><th></th><th></th><th></th><th></th><th></th><th>mag</th><th>deg</th><th>deg</th><th>yr</th><th>mas / yr</th><th>mas / yr</th><th>mas / yr</th><th>mas / yr</th><th>mas / yr</th><th>mas / yr</th><th>deg</th><th>deg</th><th></th><th>pc</th><th>km / s</th></tr></thead>\n",
       "<thead><tr><th>bytes27</th><th>bytes15</th><th>bytes5</th><th>bytes17</th><th>bytes7</th><th>bytes17</th><th>bytes19</th><th>uint8</th><th>float32</th><th>float64</th><th>float64</th><th>float64</th><th>float32</th><th>float32</th><th>float32</th><th>float32</th><th>float32</th><th>float32</th><th>float32</th><th>float32</th><th>int16</th><th>float32</th><th>float32</th></tr></thead>\n",
       "<tr><td>SDSS_J000013.54+255418.6</td><td>T4.5</td><td></td><td>J000.0563+25.9054</td><td>2MASS_</td><td>J00001354+2554180</td><td></td><td>--</td><td>--</td><td>0.056400</td><td>25.905389</td><td>2010.3542231</td><td>-18.4</td><td>5.5</td><td>123.1</td><td>3.3</td><td>124.5</td><td>3.4</td><td>351.5</td><td>2.5</td><td>28</td><td>14.12</td><td>8.3</td></tr>\n",
       "<tr><td>SDSS_J000112.18+153535.5</td><td>L3.7INT-G</td><td></td><td>J000.3012+15.5925</td><td>2MASS_</td><td>J00011217+1535355</td><td>J000112.27+153533.6</td><td>0</td><td>--</td><td>0.301175</td><td>15.592648</td><td>2011.5166324</td><td>137.3</td><td>2.2</td><td>-181.2</td><td>2.8</td><td>227.3</td><td>2.6</td><td>142.8</td><td>0.6</td><td>34</td><td>24.34</td><td>26.2</td></tr>\n",
       "<tr><td>WISEA_J000131.93-084126.9</td><td>L1pec(blue)</td><td></td><td>J000.3831-08.6909</td><td>2MASS_</td><td>J00013166-0841234</td><td>J000131.93-084127.2</td><td>0</td><td>20.39</td><td>0.383130</td><td>-8.690953</td><td>2011.1930459</td><td>339.9</td><td>2.6</td><td>-304.9</td><td>3.3</td><td>456.6</td><td>2.9</td><td>131.9</td><td>0.4</td><td>46</td><td>--</td><td>--</td></tr>\n",
       "<tr><td>SDSS_J000250.98+245413.8</td><td>L5.5</td><td></td><td>J000.7124+24.9037</td><td>2MASS_</td><td>J00025097+2454141</td><td>J000250.98+245413.6</td><td>0</td><td>--</td><td>0.712466</td><td>24.903795</td><td>2010.3066940</td><td>22.4</td><td>17.4</td><td>-45.6</td><td>7.2</td><td>50.8</td><td>9.9</td><td>153.8</td><td>17.6</td><td>28</td><td>53.33</td><td>12.8</td></tr>\n",
       "<tr><td>2MASSI_J0003422-282241</td><td>M7.5</td><td></td><td>J000.9273-28.3785</td><td>2MASS_</td><td>J00034227-2822410</td><td>J000342.53-282242.7</td><td>0</td><td>17.19</td><td>0.927389</td><td>-28.378609</td><td>2012.5282683</td><td>285.8</td><td>1.5</td><td>-142.6</td><td>1.3</td><td>319.4</td><td>1.5</td><td>116.5</td><td>0.2</td><td>67</td><td>38.91</td><td>58.9</td></tr>\n",
       "<tr><td>2MASS_J00044144-2058298</td><td>M8</td><td></td><td>J001.1753-20.9747</td><td>2MASS_</td><td>J00044144-2058298</td><td>J000442.04-205828.9</td><td>0</td><td>--</td><td>1.175450</td><td>-20.974698</td><td>2011.8222587</td><td>751.9</td><td>1.9</td><td>91.9</td><td>2.5</td><td>757.5</td><td>1.9</td><td>83.0</td><td>0.2</td><td>74</td><td>18.94</td><td>68.0</td></tr>\n",
       "<tr><td>2MASS_J00054844-2157196</td><td>M9</td><td></td><td>J001.4543-21.9558</td><td>2MASS_</td><td>J00054844-2157196</td><td>J000549.00-215721.0</td><td>0</td><td>--</td><td>1.454361</td><td>-21.955894</td><td>2011.4017522</td><td>709.4</td><td>2.2</td><td>-122.9</td><td>2.5</td><td>720.0</td><td>2.2</td><td>99.8</td><td>0.2</td><td>66</td><td>25.43</td><td>86.8</td></tr>\n",
       "<tr><td>ULAS_J000613.24+154020.7</td><td>L9</td><td></td><td>J001.5553+15.6723</td><td></td><td></td><td>J000613.26+154020.7</td><td>0</td><td>--</td><td>1.555343</td><td>15.672398</td><td>2012.2861602</td><td>84.7</td><td>40.6</td><td>-38.5</td><td>20.4</td><td>93.0</td><td>35.6</td><td>114.4</td><td>21.4</td><td>16</td><td>43.24</td><td>19.1</td></tr>\n",
       "<tr><td>SDSS_J000614.06+160454.5</td><td>L0</td><td></td><td>J001.5586+16.0816</td><td>2MASS_</td><td>J00061406+1604546</td><td>J000614.06+160454.1</td><td>0</td><td>--</td><td>1.558610</td><td>16.081685</td><td>2011.4711020</td><td>4.4</td><td>4.1</td><td>-41.8</td><td>3.9</td><td>42.0</td><td>3.9</td><td>174.0</td><td>5.6</td><td>40</td><td>103.52</td><td>20.6</td></tr>\n",
       "<tr><td>...</td><td>...</td><td>...</td><td>...</td><td>...</td><td>...</td><td>...</td><td>...</td><td>...</td><td>...</td><td>...</td><td>...</td><td>...</td><td>...</td><td>...</td><td>...</td><td>...</td><td>...</td><td>...</td><td>...</td><td>...</td><td>...</td><td>...</td></tr>\n",
       "<tr><td>SDSS_J235828.30+011024.4</td><td>M4</td><td></td><td>J359.6181+01.1730</td><td>2MASS_</td><td>J23582828+0110247</td><td>J235828.36+011023.2</td><td>0</td><td>16.68</td><td>359.618163</td><td>1.173074</td><td>2012.1444764</td><td>85.5</td><td>1.5</td><td>-126.8</td><td>1.8</td><td>152.9</td><td>1.7</td><td>146.0</td><td>0.6</td><td>84</td><td>140.05</td><td>101.5</td></tr>\n",
       "<tr><td>SDSS_J235829.74-002213.7</td><td>M0</td><td></td><td>J359.6239-00.3704</td><td>2MASS_</td><td>J23582974-0022136</td><td>J235829.74-002213.8</td><td>0</td><td>16.08</td><td>359.623955</td><td>-0.370498</td><td>2014.4029569</td><td>3.6</td><td>1.6</td><td>-5.7</td><td>1.3</td><td>6.7</td><td>1.4</td><td>148.0</td><td>13.4</td><td>68</td><td>417.33</td><td>13.3</td></tr>\n",
       "<tr><td>SDSS_J235846.03+010543.2</td><td>M3</td><td></td><td>J359.6920+01.0952</td><td>2MASS_</td><td>J23584604+0105433</td><td>J235846.07+010542.9</td><td>0</td><td>17.47</td><td>359.692018</td><td>1.095236</td><td>2014.3078713</td><td>42.7</td><td>1.6</td><td>-22.0</td><td>1.1</td><td>48.0</td><td>1.5</td><td>117.3</td><td>1.5</td><td>99</td><td>323.87</td><td>73.8</td></tr>\n",
       "<tr><td>SDSS_J235850.19+000537.7</td><td>M4</td><td></td><td>J359.7097+00.0935</td><td>2MASS_</td><td>J23585016+0005378</td><td>J235850.28+000537.0</td><td>0</td><td>16.69</td><td>359.709712</td><td>0.093538</td><td>2014.3657495</td><td>174.5</td><td>1.7</td><td>-76.2</td><td>3.1</td><td>190.4</td><td>2.0</td><td>113.6</td><td>0.9</td><td>86</td><td>140.21</td><td>126.6</td></tr>\n",
       "<tr><td>SDSS_J235852.16+010944.6</td><td>M0</td><td></td><td>J359.7175+01.1618</td><td>2MASS_</td><td>J23585214+0109450</td><td>J235852.19+010943.2</td><td>0</td><td>16.67</td><td>359.717535</td><td>1.161854</td><td>2014.3622450</td><td>64.8</td><td>1.0</td><td>-153.4</td><td>2.0</td><td>166.5</td><td>1.9</td><td>157.1</td><td>0.4</td><td>67</td><td>549.21</td><td>433.5</td></tr>\n",
       "<tr><td>SDSS_J235903.19-010401.7</td><td>M4</td><td></td><td>J359.7634-01.0675</td><td>2MASS_</td><td>J23590319-0104015</td><td>J235903.22-010402.6</td><td>0</td><td>16.46</td><td>359.763462</td><td>-1.067506</td><td>2014.2159890</td><td>42.8</td><td>1.3</td><td>-104.4</td><td>1.8</td><td>112.9</td><td>1.8</td><td>157.7</td><td>0.7</td><td>96</td><td>126.19</td><td>67.5</td></tr>\n",
       "<tr><td>SDSS_J235905.49-001529.6</td><td>M4</td><td></td><td>J359.7728-00.2583</td><td>2MASS_</td><td>J23590549-0015294</td><td>J235905.49-001529.8</td><td>0</td><td>17.46</td><td>359.772855</td><td>-0.258337</td><td>2014.3665435</td><td>-12.6</td><td>2.5</td><td>-37.7</td><td>1.6</td><td>39.7</td><td>1.7</td><td>198.5</td><td>3.5</td><td>99</td><td>197.61</td><td>37.2</td></tr>\n",
       "<tr><td>SDSS_J235913.50+003929.6</td><td>M3</td><td></td><td>J359.8062+00.6581</td><td>2MASS_</td><td>J23591350+0039293</td><td>J235913.51+003929.3</td><td>0</td><td>17.71</td><td>359.806223</td><td>0.658140</td><td>2014.5993977</td><td>-8.9</td><td>2.0</td><td>-13.6</td><td>1.8</td><td>16.2</td><td>1.8</td><td>213.1</td><td>6.9</td><td>80</td><td>368.31</td><td>28.3</td></tr>\n",
       "<tr><td>SDSS_J235936.63+005829.9</td><td>M4</td><td></td><td>J359.9025+00.9749</td><td>2MASS_</td><td>J23593663+0058300</td><td>J235936.62+005829.6</td><td>0</td><td>17.90</td><td>359.902577</td><td>0.974913</td><td>2014.5106092</td><td>-21.7</td><td>2.1</td><td>-15.9</td><td>1.4</td><td>26.9</td><td>1.9</td><td>233.7</td><td>3.6</td><td>85</td><td>240.94</td><td>30.8</td></tr>\n",
       "<tr><td>SDSS_J235940.50+001943.0</td><td>M2</td><td></td><td>J359.9186+00.3284</td><td>2MASS_</td><td>J23594050+0019429</td><td>J235940.48+001942.6</td><td>0</td><td>16.78</td><td>359.918675</td><td>0.328475</td><td>2014.3065572</td><td>-27.2</td><td>2.0</td><td>-31.1</td><td>1.8</td><td>41.3</td><td>1.9</td><td>221.2</td><td>2.7</td><td>89</td><td>357.32</td><td>70.0</td></tr>\n",
       "</table>"
      ],
      "text/plain": [
       "<Table masked=True length=9888>\n",
       "           Name               SpT     GravOpt ...  Nep    Dist    vtan \n",
       "                                              ...          pc    km / s\n",
       "         bytes27            bytes15    bytes5 ... int16 float32 float32\n",
       "------------------------- ----------- ------- ... ----- ------- -------\n",
       " SDSS_J000013.54+255418.6        T4.5         ...    28   14.12     8.3\n",
       " SDSS_J000112.18+153535.5   L3.7INT-G         ...    34   24.34    26.2\n",
       "WISEA_J000131.93-084126.9 L1pec(blue)         ...    46      --      --\n",
       " SDSS_J000250.98+245413.8        L5.5         ...    28   53.33    12.8\n",
       "   2MASSI_J0003422-282241        M7.5         ...    67   38.91    58.9\n",
       "  2MASS_J00044144-2058298          M8         ...    74   18.94    68.0\n",
       "  2MASS_J00054844-2157196          M9         ...    66   25.43    86.8\n",
       " ULAS_J000613.24+154020.7          L9         ...    16   43.24    19.1\n",
       " SDSS_J000614.06+160454.5          L0         ...    40  103.52    20.6\n",
       "                      ...         ...     ... ...   ...     ...     ...\n",
       " SDSS_J235828.30+011024.4          M4         ...    84  140.05   101.5\n",
       " SDSS_J235829.74-002213.7          M0         ...    68  417.33    13.3\n",
       " SDSS_J235846.03+010543.2          M3         ...    99  323.87    73.8\n",
       " SDSS_J235850.19+000537.7          M4         ...    86  140.21   126.6\n",
       " SDSS_J235852.16+010944.6          M0         ...    67  549.21   433.5\n",
       " SDSS_J235903.19-010401.7          M4         ...    96  126.19    67.5\n",
       " SDSS_J235905.49-001529.6          M4         ...    99  197.61    37.2\n",
       " SDSS_J235913.50+003929.6          M3         ...    80  368.31    28.3\n",
       " SDSS_J235936.63+005829.9          M4         ...    85  240.94    30.8\n",
       " SDSS_J235940.50+001943.0          M2         ...    89  357.32    70.0"
      ]
     },
     "execution_count": 36,
     "metadata": {},
     "output_type": "execute_result"
    }
   ],
   "source": [
    "dwarfs"
   ]
  },
  {
   "cell_type": "code",
   "execution_count": 37,
   "metadata": {},
   "outputs": [
    {
     "data": {
      "text/plain": [
       "1056.75"
      ]
     },
     "execution_count": 37,
     "metadata": {},
     "output_type": "execute_result"
    }
   ],
   "source": [
    "np.max(dwarfs['Dist'])"
   ]
  },
  {
   "cell_type": "code",
   "execution_count": 38,
   "metadata": {},
   "outputs": [
    {
     "name": "stderr",
     "output_type": "stream",
     "text": [
      "/Applications/anaconda3/lib/python3.7/site-packages/numpy/lib/histograms.py:829: RuntimeWarning: invalid value encountered in greater_equal\n",
      "  keep = (tmp_a >= first_edge)\n",
      "/Applications/anaconda3/lib/python3.7/site-packages/numpy/lib/histograms.py:830: RuntimeWarning: invalid value encountered in less_equal\n",
      "  keep &= (tmp_a <= last_edge)\n"
     ]
    },
    {
     "data": {
      "text/plain": [
       "Text(0.5, 1.0, 'Histogram of tangential velocities.')"
      ]
     },
     "execution_count": 38,
     "metadata": {},
     "output_type": "execute_result"
    },
    {
     "data": {
      "image/png": "[encoded data removed]",
      "text/plain": [
       "<Figure size 432x288 with 1 Axes>"
      ]
     },
     "metadata": {
      "needs_background": "light"
     },
     "output_type": "display_data"
    }
   ],
   "source": [
    "#Histogram of tangential velocities. Majority are less than 200km/s\n",
    "plt.hist(dwarfs['vtan'])\n",
    "plt.xlabel(\"Tangential Velocity km/s\")\n",
    "plt.ylabel(\"# of Objects\")\n",
    "plt.title(\"Histogram of tangential velocities.\")"
   ]
  },
  {
   "cell_type": "code",
   "execution_count": 39,
   "metadata": {},
   "outputs": [
    {
     "data": {
      "text/plain": [
       "<SkyCoord (ICRS): (ra, dec) in deg\n",
       "    [(5.64000000e-02, 25.905389), (3.01175000e-01, 15.592648),\n",
       "     (3.83130000e-01, -8.690953), ..., (3.59806223e+02,  0.65814 ),\n",
       "     (3.59902577e+02,  0.974913), (3.59918675e+02,  0.328475)]>"
      ]
     },
     "execution_count": 39,
     "metadata": {},
     "output_type": "execute_result"
    }
   ],
   "source": [
    "c = SkyCoord(ra=dwarfs[\"RAJ2000\"], dec=dwarfs[\"DEJ2000\"])\n",
    "c"
   ]
  },
  {
   "cell_type": "code",
   "execution_count": 40,
   "metadata": {},
   "outputs": [
    {
     "data": {
      "text/plain": [
       "<SkyCoord (Galactic): (l, b) in deg\n",
       "    [(108.74975179, -35.55203335), (105.52275727, -45.57424207),\n",
       "     ( 87.98770508, -68.10899792), ..., ( 96.50379894, -59.50759576),\n",
       "     ( 96.92229151, -59.25422798), ( 96.4493562 , -59.85482506)]>"
      ]
     },
     "execution_count": 40,
     "metadata": {},
     "output_type": "execute_result"
    }
   ],
   "source": [
    "cgal=c.galactic\n",
    "cgal"
   ]
  },
  {
   "cell_type": "code",
   "execution_count": 41,
   "metadata": {},
   "outputs": [
    {
     "data": {
      "text/plain": [
       "array([0.58144206, 0.71415807, 0.92789482, ..., 0.86169644, 0.85944414,\n",
       "       0.86475573])"
      ]
     },
     "execution_count": 41,
     "metadata": {},
     "output_type": "execute_result"
    }
   ],
   "source": [
    "#Convert to radians.....\n",
    "gal_latitude=cgal.b\n",
    "#gal_latitude\n",
    "np.sin(np.abs(np.deg2rad(gal_latitude.value)))"
   ]
  },
  {
   "cell_type": "code",
   "execution_count": 42,
   "metadata": {},
   "outputs": [],
   "source": [
    "H=365\n",
    "dmax=10*10**((20.4-absG)/5)\n",
    "dmax1=np.clip(dmax,0,100)\n",
    "#dmax\n",
    "sky_area=4*np.pi\n",
    "#sky_area\n",
    "ξ=(dmax1*np.sin(np.abs(np.deg2rad(gal_latitude)))/H)"
   ]
  },
  {
   "cell_type": "code",
   "execution_count": 43,
   "metadata": {},
   "outputs": [],
   "source": [
    "Vmax=sky_area*((H**3)/(np.sin(np.abs(np.deg2rad(gal_latitude))))**3)*(2-((ξ**2+(2*ξ)+2)*np.exp(-ξ)))\n",
    "dwarfs[\"Vmax\"]=Vmax\n",
    "                                                                                      \n",
    "                                                                                                                                                                           "
   ]
  },
  {
   "cell_type": "code",
   "execution_count": 44,
   "metadata": {},
   "outputs": [
    {
     "data": {
      "text/html": [
       "<i>Table masked=True length=9888</i>\n",
       "<table id=\"table140478732996304\" class=\"table-striped table-bordered table-condensed\">\n",
       "<thead><tr><th>Name</th><th>SpT</th><th>GravOpt</th><th>PS1</th><th>_2MCat</th><th>_2MASS</th><th>AllWISE</th><th>Ngh</th><th>Gmag</th><th>RAJ2000</th><th>DEJ2000</th><th>PS1ep</th><th>pmRA</th><th>e_pmRA</th><th>pmDE</th><th>e_pmDE</th><th>pm</th><th>e_pm</th><th>pmPA</th><th>e_pmPA</th><th>Nep</th><th>Dist</th><th>vtan</th><th>Vmax</th><th>absG</th></tr></thead>\n",
       "<thead><tr><th></th><th></th><th></th><th></th><th></th><th></th><th></th><th></th><th>mag</th><th>deg</th><th>deg</th><th>yr</th><th>mas / yr</th><th>mas / yr</th><th>mas / yr</th><th>mas / yr</th><th>mas / yr</th><th>mas / yr</th><th>deg</th><th>deg</th><th></th><th>pc</th><th>km / s</th><th></th><th></th></tr></thead>\n",
       "<thead><tr><th>bytes27</th><th>bytes15</th><th>bytes5</th><th>bytes17</th><th>bytes7</th><th>bytes17</th><th>bytes19</th><th>uint8</th><th>float32</th><th>float64</th><th>float64</th><th>float64</th><th>float32</th><th>float32</th><th>float32</th><th>float32</th><th>float32</th><th>float32</th><th>float32</th><th>float32</th><th>int16</th><th>float32</th><th>float32</th><th>float64</th><th>float32</th></tr></thead>\n",
       "<tr><td>SDSS_J000013.54+255418.6</td><td>T4.5</td><td></td><td>J000.0563+25.9054</td><td>2MASS_</td><td>J00001354+2554180</td><td></td><td>--</td><td>--</td><td>0.056400</td><td>25.905389</td><td>2010.3542231</td><td>-18.4</td><td>5.5</td><td>123.1</td><td>3.3</td><td>124.5</td><td>3.4</td><td>351.5</td><td>2.5</td><td>28</td><td>14.12</td><td>8.3</td><td>6217261368.175248</td><td>--</td></tr>\n",
       "<tr><td>SDSS_J000112.18+153535.5</td><td>L3.7INT-G</td><td></td><td>J000.3012+15.5925</td><td>2MASS_</td><td>J00011217+1535355</td><td>J000112.27+153533.6</td><td>0</td><td>--</td><td>0.301175</td><td>15.592648</td><td>2011.5166324</td><td>137.3</td><td>2.2</td><td>-181.2</td><td>2.8</td><td>227.3</td><td>2.6</td><td>142.8</td><td>0.6</td><td>34</td><td>24.34</td><td>26.2</td><td>3355331356.31207</td><td>--</td></tr>\n",
       "<tr><td>WISEA_J000131.93-084126.9</td><td>L1pec(blue)</td><td></td><td>J000.3831-08.6909</td><td>2MASS_</td><td>J00013166-0841234</td><td>J000131.93-084127.2</td><td>0</td><td>20.39</td><td>0.383130</td><td>-8.690953</td><td>2011.1930459</td><td>339.9</td><td>2.6</td><td>-304.9</td><td>3.3</td><td>456.6</td><td>2.9</td><td>131.9</td><td>0.4</td><td>46</td><td>--</td><td>--</td><td>1529756141.581787</td><td>--</td></tr>\n",
       "<tr><td>SDSS_J000250.98+245413.8</td><td>L5.5</td><td></td><td>J000.7124+24.9037</td><td>2MASS_</td><td>J00025097+2454141</td><td>J000250.98+245413.6</td><td>0</td><td>--</td><td>0.712466</td><td>24.903795</td><td>2010.3066940</td><td>22.4</td><td>17.4</td><td>-45.6</td><td>7.2</td><td>50.8</td><td>9.9</td><td>153.8</td><td>17.6</td><td>28</td><td>53.33</td><td>12.8</td><td>5739496857.873254</td><td>--</td></tr>\n",
       "<tr><td>2MASSI_J0003422-282241</td><td>M7.5</td><td></td><td>J000.9273-28.3785</td><td>2MASS_</td><td>J00034227-2822410</td><td>J000342.53-282242.7</td><td>0</td><td>17.19</td><td>0.927389</td><td>-28.378609</td><td>2012.5282683</td><td>285.8</td><td>1.5</td><td>-142.6</td><td>1.3</td><td>319.4</td><td>1.5</td><td>116.5</td><td>0.2</td><td>67</td><td>38.91</td><td>58.9</td><td>3427522.7303413874</td><td>14.239695</td></tr>\n",
       "<tr><td>2MASS_J00044144-2058298</td><td>M8</td><td></td><td>J001.1753-20.9747</td><td>2MASS_</td><td>J00044144-2058298</td><td>J000442.04-205828.9</td><td>0</td><td>--</td><td>1.175450</td><td>-20.974698</td><td>2011.8222587</td><td>751.9</td><td>1.9</td><td>91.9</td><td>2.5</td><td>757.5</td><td>1.9</td><td>83.0</td><td>0.2</td><td>74</td><td>18.94</td><td>68.0</td><td>1310416919.920232</td><td>--</td></tr>\n",
       "<tr><td>2MASS_J00054844-2157196</td><td>M9</td><td></td><td>J001.4543-21.9558</td><td>2MASS_</td><td>J00054844-2157196</td><td>J000549.00-215721.0</td><td>0</td><td>--</td><td>1.454361</td><td>-21.955894</td><td>2011.4017522</td><td>709.4</td><td>2.2</td><td>-122.9</td><td>2.5</td><td>720.0</td><td>2.2</td><td>99.8</td><td>0.2</td><td>66</td><td>25.43</td><td>86.8</td><td>1299972692.475267</td><td>--</td></tr>\n",
       "<tr><td>ULAS_J000613.24+154020.7</td><td>L9</td><td></td><td>J001.5553+15.6723</td><td></td><td></td><td>J000613.26+154020.7</td><td>0</td><td>--</td><td>1.555343</td><td>15.672398</td><td>2012.2861602</td><td>84.7</td><td>40.6</td><td>-38.5</td><td>20.4</td><td>93.0</td><td>35.6</td><td>114.4</td><td>21.4</td><td>16</td><td>43.24</td><td>19.1</td><td>3314221962.03907</td><td>--</td></tr>\n",
       "<tr><td>SDSS_J000614.06+160454.5</td><td>L0</td><td></td><td>J001.5586+16.0816</td><td>2MASS_</td><td>J00061406+1604546</td><td>J000614.06+160454.1</td><td>0</td><td>--</td><td>1.558610</td><td>16.081685</td><td>2011.4711020</td><td>4.4</td><td>4.1</td><td>-41.8</td><td>3.9</td><td>42.0</td><td>3.9</td><td>174.0</td><td>5.6</td><td>40</td><td>103.52</td><td>20.6</td><td>3382088163.231807</td><td>--</td></tr>\n",
       "<tr><td>...</td><td>...</td><td>...</td><td>...</td><td>...</td><td>...</td><td>...</td><td>...</td><td>...</td><td>...</td><td>...</td><td>...</td><td>...</td><td>...</td><td>...</td><td>...</td><td>...</td><td>...</td><td>...</td><td>...</td><td>...</td><td>...</td><td>...</td><td>...</td><td>...</td></tr>\n",
       "<tr><td>SDSS_J235828.30+011024.4</td><td>M4</td><td></td><td>J359.6181+01.1730</td><td>2MASS_</td><td>J23582828+0110247</td><td>J235828.36+011023.2</td><td>0</td><td>16.68</td><td>359.618163</td><td>1.173074</td><td>2012.1444764</td><td>85.5</td><td>1.5</td><td>-126.8</td><td>1.8</td><td>152.9</td><td>1.7</td><td>146.0</td><td>0.6</td><td>84</td><td>140.05</td><td>101.5</td><td>3516273.538930262</td><td>10.948585</td></tr>\n",
       "<tr><td>SDSS_J235829.74-002213.7</td><td>M0</td><td></td><td>J359.6239-00.3704</td><td>2MASS_</td><td>J23582974-0022136</td><td>J235829.74-002213.8</td><td>0</td><td>16.08</td><td>359.623955</td><td>-0.370498</td><td>2014.4029569</td><td>3.6</td><td>1.6</td><td>-5.7</td><td>1.3</td><td>6.7</td><td>1.4</td><td>148.0</td><td>13.4</td><td>68</td><td>417.33</td><td>13.3</td><td>3507385.148767932</td><td>7.977602</td></tr>\n",
       "<tr><td>SDSS_J235846.03+010543.2</td><td>M3</td><td></td><td>J359.6920+01.0952</td><td>2MASS_</td><td>J23584604+0105433</td><td>J235846.07+010542.9</td><td>0</td><td>17.47</td><td>359.692018</td><td>1.095236</td><td>2014.3078713</td><td>42.7</td><td>1.6</td><td>-22.0</td><td>1.1</td><td>48.0</td><td>1.5</td><td>117.3</td><td>1.5</td><td>99</td><td>323.87</td><td>73.8</td><td>3515627.7987429067</td><td>9.918146</td></tr>\n",
       "<tr><td>SDSS_J235850.19+000537.7</td><td>M4</td><td></td><td>J359.7097+00.0935</td><td>2MASS_</td><td>J23585016+0005378</td><td>J235850.28+000537.0</td><td>0</td><td>16.69</td><td>359.709712</td><td>0.093538</td><td>2014.3657495</td><td>174.5</td><td>1.7</td><td>-76.2</td><td>3.1</td><td>190.4</td><td>2.0</td><td>113.6</td><td>0.9</td><td>86</td><td>140.21</td><td>126.6</td><td>3509786.6997970645</td><td>10.956105</td></tr>\n",
       "<tr><td>SDSS_J235852.16+010944.6</td><td>M0</td><td></td><td>J359.7175+01.1618</td><td>2MASS_</td><td>J23585214+0109450</td><td>J235852.19+010943.2</td><td>0</td><td>16.67</td><td>359.717535</td><td>1.161854</td><td>2014.3622450</td><td>64.8</td><td>1.0</td><td>-153.4</td><td>2.0</td><td>166.5</td><td>1.9</td><td>157.1</td><td>0.4</td><td>67</td><td>549.21</td><td>433.5</td><td>3515955.940791416</td><td>7.9713078</td></tr>\n",
       "<tr><td>SDSS_J235903.19-010401.7</td><td>M4</td><td></td><td>J359.7634-01.0675</td><td>2MASS_</td><td>J23590319-0104015</td><td>J235903.22-010402.6</td><td>0</td><td>16.46</td><td>359.763462</td><td>-1.067506</td><td>2014.2159890</td><td>42.8</td><td>1.3</td><td>-104.4</td><td>1.8</td><td>112.9</td><td>1.8</td><td>157.7</td><td>0.7</td><td>96</td><td>126.19</td><td>67.5</td><td>3503181.7974468996</td><td>10.954874</td></tr>\n",
       "<tr><td>SDSS_J235905.49-001529.6</td><td>M4</td><td></td><td>J359.7728-00.2583</td><td>2MASS_</td><td>J23590549-0015294</td><td>J235905.49-001529.8</td><td>0</td><td>17.46</td><td>359.772855</td><td>-0.258337</td><td>2014.3665435</td><td>-12.6</td><td>2.5</td><td>-37.7</td><td>1.6</td><td>39.7</td><td>1.7</td><td>198.5</td><td>3.5</td><td>99</td><td>197.61</td><td>37.2</td><td>3507639.0998112787</td><td>10.980955</td></tr>\n",
       "<tr><td>SDSS_J235913.50+003929.6</td><td>M3</td><td></td><td>J359.8062+00.6581</td><td>2MASS_</td><td>J23591350+0039293</td><td>J235913.51+003929.3</td><td>0</td><td>17.71</td><td>359.806223</td><td>0.658140</td><td>2014.5993977</td><td>-8.9</td><td>2.0</td><td>-13.6</td><td>1.8</td><td>16.2</td><td>1.8</td><td>213.1</td><td>6.9</td><td>80</td><td>368.31</td><td>28.3</td><td>3512787.158218292</td><td>9.878931</td></tr>\n",
       "<tr><td>SDSS_J235936.63+005829.9</td><td>M4</td><td></td><td>J359.9025+00.9749</td><td>2MASS_</td><td>J23593663+0058300</td><td>J235936.62+005829.6</td><td>0</td><td>17.90</td><td>359.902577</td><td>0.974913</td><td>2014.5106092</td><td>-21.7</td><td>2.1</td><td>-15.9</td><td>1.4</td><td>26.9</td><td>1.9</td><td>233.7</td><td>3.6</td><td>85</td><td>240.94</td><td>30.8</td><td>3514393.7055580136</td><td>10.990456</td></tr>\n",
       "<tr><td>SDSS_J235940.50+001943.0</td><td>M2</td><td></td><td>J359.9186+00.3284</td><td>2MASS_</td><td>J23594050+0019429</td><td>J235940.48+001942.6</td><td>0</td><td>16.78</td><td>359.918675</td><td>0.328475</td><td>2014.3065572</td><td>-27.2</td><td>2.0</td><td>-31.1</td><td>1.8</td><td>41.3</td><td>1.9</td><td>221.2</td><td>2.7</td><td>89</td><td>357.32</td><td>70.0</td><td>3510606.24526595</td><td>9.014714</td></tr>\n",
       "</table>"
      ],
      "text/plain": [
       "<Table masked=True length=9888>\n",
       "           Name               SpT     GravOpt ...        Vmax           absG  \n",
       "                                              ...                             \n",
       "         bytes27            bytes15    bytes5 ...      float64        float32 \n",
       "------------------------- ----------- ------- ... ------------------ ---------\n",
       " SDSS_J000013.54+255418.6        T4.5         ...  6217261368.175248        --\n",
       " SDSS_J000112.18+153535.5   L3.7INT-G         ...   3355331356.31207        --\n",
       "WISEA_J000131.93-084126.9 L1pec(blue)         ...  1529756141.581787        --\n",
       " SDSS_J000250.98+245413.8        L5.5         ...  5739496857.873254        --\n",
       "   2MASSI_J0003422-282241        M7.5         ... 3427522.7303413874 14.239695\n",
       "  2MASS_J00044144-2058298          M8         ...  1310416919.920232        --\n",
       "  2MASS_J00054844-2157196          M9         ...  1299972692.475267        --\n",
       " ULAS_J000613.24+154020.7          L9         ...   3314221962.03907        --\n",
       " SDSS_J000614.06+160454.5          L0         ...  3382088163.231807        --\n",
       "                      ...         ...     ... ...                ...       ...\n",
       " SDSS_J235828.30+011024.4          M4         ...  3516273.538930262 10.948585\n",
       " SDSS_J235829.74-002213.7          M0         ...  3507385.148767932  7.977602\n",
       " SDSS_J235846.03+010543.2          M3         ... 3515627.7987429067  9.918146\n",
       " SDSS_J235850.19+000537.7          M4         ... 3509786.6997970645 10.956105\n",
       " SDSS_J235852.16+010944.6          M0         ...  3515955.940791416 7.9713078\n",
       " SDSS_J235903.19-010401.7          M4         ... 3503181.7974468996 10.954874\n",
       " SDSS_J235905.49-001529.6          M4         ... 3507639.0998112787 10.980955\n",
       " SDSS_J235913.50+003929.6          M3         ...  3512787.158218292  9.878931\n",
       " SDSS_J235936.63+005829.9          M4         ... 3514393.7055580136 10.990456\n",
       " SDSS_J235940.50+001943.0          M2         ...   3510606.24526595  9.014714"
      ]
     },
     "execution_count": 44,
     "metadata": {},
     "output_type": "execute_result"
    }
   ],
   "source": [
    "dm=5.0*(np.log10(dwarfs['Dist']/10))\n",
    "absG=dwarfs['Gmag']-dm\n",
    "#absG_rounded=np.rint(2*absG)\n",
    "#int_absG=(absG_rounded.astype(int))\n",
    "#i_close=(stellardata['Dist50']*1000<50)\n",
    "dwarfs[\"absG\"]=absG\n",
    "dwarfs"
   ]
  },
  {
   "cell_type": "code",
   "execution_count": 45,
   "metadata": {},
   "outputs": [
    {
     "data": {
      "text/plain": [
       "20.0032"
      ]
     },
     "execution_count": 45,
     "metadata": {},
     "output_type": "execute_result"
    }
   ],
   "source": [
    "np.max(absG)"
   ]
  },
  {
   "cell_type": "code",
   "execution_count": 46,
   "metadata": {},
   "outputs": [],
   "source": [
    "lf_spacedensity=np.zeros(14)"
   ]
  },
  {
   "cell_type": "code",
   "execution_count": 47,
   "metadata": {},
   "outputs": [],
   "source": [
    "bins=np.linspace(7.0,20.1,14)\n",
    "bin_data=np.digitize(absG,bins)\n",
    "bincount=np.bincount(bin_data)"
   ]
  },
  {
   "cell_type": "code",
   "execution_count": 48,
   "metadata": {},
   "outputs": [
    {
     "data": {
      "text/plain": [
       "array([14, 14, 14, ...,  3,  4,  2])"
      ]
     },
     "execution_count": 48,
     "metadata": {},
     "output_type": "execute_result"
    }
   ],
   "source": [
    "bin_data"
   ]
  },
  {
   "cell_type": "code",
   "execution_count": 49,
   "metadata": {},
   "outputs": [
    {
     "name": "stdout",
     "output_type": "stream",
     "text": [
      "[0.00000000e+00 2.31792037e-04 2.66493102e-04 9.81159186e-04\n",
      " 3.38539906e-04 1.92719839e-05 1.60358041e-04 6.82341317e-05\n",
      " 2.25743584e-05 4.10054289e-05 2.14352105e-04 2.55094473e-04\n",
      " 2.67696674e-04 5.03530377e-04]\n"
     ]
    }
   ],
   "source": [
    "#Run a for loop to create array of luminosity function values for each absolute magnitude bin. AbsG magnitudes are\n",
    "#constrained between 7 and 20\n",
    "for n1 in range(absG.size):\n",
    "    if ((absG[n1]>=7.0)and(absG[n1]<=20.0)):\n",
    "            my_bin=bin_data[n1]\n",
    "            lf_spacedensity[my_bin]+=1.0/Vmax[n1]\n",
    "print(lf_spacedensity)"
   ]
  },
  {
   "cell_type": "code",
   "execution_count": 50,
   "metadata": {},
   "outputs": [
    {
     "data": {
      "text/plain": [
       "Text(0.5, 1.0, 'Luminosity Function with AbsG Constraints')"
      ]
     },
     "execution_count": 50,
     "metadata": {},
     "output_type": "execute_result"
    },
    {
     "data": {
      "image/png": "[encoded data removed]",
      "text/plain": [
       "<Figure size 432x288 with 1 Axes>"
      ]
     },
     "metadata": {
      "needs_background": "light"
     },
     "output_type": "display_data"
    }
   ],
   "source": [
    "plt.plot(bins,lf_spacedensity)\n",
    "plt.xlabel(\"Gmag\")\n",
    "plt.ylabel('$\\Phi(M)$')\n",
    "plt.title(\"Luminosity Function with AbsG Constraints\")"
   ]
  },
  {
   "cell_type": "code",
   "execution_count": 51,
   "metadata": {},
   "outputs": [
    {
     "data": {
      "text/plain": [
       "9888"
      ]
     },
     "execution_count": 51,
     "metadata": {},
     "output_type": "execute_result"
    }
   ],
   "source": [
    "len(dwarfs)"
   ]
  },
  {
   "cell_type": "code",
   "execution_count": null,
   "metadata": {},
   "outputs": [],
   "source": []
  }
 ],
 "metadata": {
  "kernelspec": {
   "display_name": "Python 3",
   "language": "python",
   "name": "python3"
  },
  "language_info": {
   "codemirror_mode": {
    "name": "ipython",
    "version": 3
   },
   "file_extension": ".py",
   "mimetype": "text/x-python",
   "name": "python",
   "nbconvert_exporter": "python",
   "pygments_lexer": "ipython3",
   "version": "3.7.4"
  }
 },
 "nbformat": 4,
 "nbformat_minor": 2
}
